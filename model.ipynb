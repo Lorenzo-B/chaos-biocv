{
  "cells": [
    {
      "cell_type": "markdown",
      "metadata": {
        "id": "GM-gSXI820aV"
      },
      "source": [
        "<a href=\"https://colab.research.google.com/github/Lorenzo-B/chaos-biocv/blob/main/model.ipynb\" target=\"_parent\"><img src=\"https://colab.research.google.com/assets/colab-badge.svg\" alt=\"Open In Colab\"/></a>"
      ]
    },
    {
      "cell_type": "markdown",
      "metadata": {},
      "source": [
        "# Libaries"
      ]
    },
    {
      "cell_type": "code",
      "execution_count": null,
      "metadata": {
        "colab": {
          "base_uri": "https://localhost:8080/"
        },
        "id": "4jp1Qb7EDVFZ",
        "outputId": "4afd198d-3825-4c8c-9c24-faabb29ab549"
      },
      "outputs": [],
      "source": [
        "%pip install pydicom"
      ]
    },
    {
      "cell_type": "code",
      "execution_count": null,
      "metadata": {
        "id": "TEJOLH4TB-q2"
      },
      "outputs": [],
      "source": [
        "import tensorflow as tf\n",
        "import keras as keras\n",
        "import tensorflow_datasets as tfds\n",
        "from keras.callbacks import ModelCheckpoint\n",
        "\n",
        "import matplotlib.pyplot as plt\n",
        "import numpy as np\n",
        "\n",
        "from pathlib import Path"
      ]
    },
    {
      "cell_type": "markdown",
      "metadata": {
        "id": "SOE2WhFy1_U9"
      },
      "source": [
        "# Clone Dataset"
      ]
    },
    {
      "cell_type": "code",
      "execution_count": null,
      "metadata": {
        "colab": {
          "base_uri": "https://localhost:8080/"
        },
        "id": "0yYNH_eiWUth",
        "outputId": "ed838b18-3385-4729-fde2-56d2e703cc67"
      },
      "outputs": [],
      "source": [
        "!git clone https://github.com/Lorenzo-B/chaos-biocv.git"
      ]
    },
    {
      "cell_type": "code",
      "execution_count": null,
      "metadata": {
        "colab": {
          "base_uri": "https://localhost:8080/"
        },
        "id": "MYaYvtGkEc4g",
        "outputId": "a2abe4d8-7e18-48c1-a6e1-04f3c08a10e7"
      },
      "outputs": [],
      "source": [
        "%cd chaos-biocv/chaos_dataset/\n",
        "!tfds build\n",
        "%cd /content/"
      ]
    },
    {
      "cell_type": "code",
      "execution_count": null,
      "metadata": {
        "colab": {
          "base_uri": "https://localhost:8080/"
        },
        "id": "nD6PuTFgB-q4",
        "outputId": "9f0bb9bb-7b16-41a6-a9a2-b16b32863a4e"
      },
      "outputs": [],
      "source": [
        "dataset, info = tfds.load('chaos_dataset:1.0.12', with_info=True)\n",
        "\n",
        "TRAIN_LENGTH = info.splits['train'].num_examples\n",
        "BATCH_SIZE = 32\n",
        "BUFFER_SIZE = TRAIN_LENGTH\n",
        "STEPS_PER_EPOCH = TRAIN_LENGTH // BATCH_SIZE"
      ]
    },
    {
      "cell_type": "markdown",
      "metadata": {},
      "source": [
        "# Load Dataset"
      ]
    },
    {
      "cell_type": "markdown",
      "metadata": {},
      "source": [
        "## Preprocessing and data Augmentation"
      ]
    },
    {
      "cell_type": "code",
      "execution_count": null,
      "metadata": {
        "id": "FOcViIrCB-q3"
      },
      "outputs": [],
      "source": [
        "def resize(input_image: tf.Tensor, input_mask: tf.Tensor):\n",
        "   input_image = tf.image.resize(input_image, (128, 128))\n",
        "   input_mask = tf.image.resize(input_mask, (128, 128), method=tf.image.ResizeMethod.NEAREST_NEIGHBOR)\n",
        "\n",
        "   return input_image, input_mask\n",
        "\n",
        "def normalize(input_image: tf.Tensor, input_mask: tf.Tensor):\n",
        "   return input_image, input_mask\n",
        "\n",
        "class Augment(tf.keras.layers.Layer):\n",
        "    def __init__(self, seed=42):\n",
        "        super().__init__()\n",
        "        # both use the same seed, so they'll make the same random changes.\n",
        "\n",
        "        self.augment_inputs = keras.layers.RandomFlip(mode=\"vertical\", seed=seed)\n",
        "        self.augment_masks = keras.layers.RandomFlip(mode=\"vertical\", seed=seed)\n",
        "\n",
        "    def call(self, inputs, labels):\n",
        "        inputs = self.augment_inputs(inputs)\n",
        "        labels = self.augment_masks(labels)\n",
        "        return inputs, labels\n",
        "\n",
        "\n",
        "def load_image(datapoint):\n",
        "   input_image = datapoint[\"image\"]\n",
        "   input_mask = datapoint[\"segmentation_mask\"]\n",
        "\n",
        "   input_image, input_mask = resize(input_image, input_mask)\n",
        "   input_image, input_mask = normalize(input_image, input_mask)\n",
        "\n",
        "   return input_image, input_mask\n"
      ]
    },
    {
      "cell_type": "markdown",
      "metadata": {},
      "source": [
        "## Prepare dataset"
      ]
    },
    {
      "cell_type": "code",
      "execution_count": null,
      "metadata": {
        "id": "b5o9BqGRB-q5"
      },
      "outputs": [],
      "source": [
        "train_dataset = dataset[\"train\"].map(load_image, num_parallel_calls=tf.data.AUTOTUNE)\n",
        "validation_dataset = dataset[\"validation\"].map(load_image, num_parallel_calls=tf.data.AUTOTUNE)\n",
        "test_dataset = dataset[\"test\"].map(load_image, num_parallel_calls=tf.data.AUTOTUNE)"
      ]
    },
    {
      "cell_type": "code",
      "execution_count": null,
      "metadata": {
        "id": "fJEMUedAB-q5"
      },
      "outputs": [],
      "source": [
        "train_batches = (\n",
        "    train_dataset\n",
        "    .cache()\n",
        "    .shuffle(BUFFER_SIZE)\n",
        "    .batch(BATCH_SIZE)\n",
        "    .repeat()\n",
        "    .map(Augment())\n",
        "    .prefetch(buffer_size=tf.data.experimental.AUTOTUNE)\n",
        ")\n",
        "\n",
        "validation_batches = validation_dataset.batch(BATCH_SIZE)\n",
        "test_batches = test_dataset.batch(BATCH_SIZE)"
      ]
    },
    {
      "cell_type": "markdown",
      "metadata": {},
      "source": [
        "# Helper functions"
      ]
    },
    {
      "cell_type": "code",
      "execution_count": null,
      "metadata": {
        "id": "5pzcn-7cB-q5"
      },
      "outputs": [],
      "source": [
        "def display(display_list):\n",
        "    plt.figure(figsize=(15, 15))\n",
        "\n",
        "    title = ['Input Image', 'True Mask', 'Predicted Mask']\n",
        "\n",
        "    for i in range(len(display_list)):\n",
        "        plt.subplot(1, len(display_list), i+1)\n",
        "        plt.title(title[i])\n",
        "        plt.imshow(tf.keras.utils.array_to_img(display_list[i]))\n",
        "        # plt.imshow(tf.keras.utils.array_to_img(display_list[i]), cmap=\"gray\")\n",
        "        plt.axis('off')\n",
        "    plt.show()"
      ]
    },
    {
      "cell_type": "code",
      "execution_count": null,
      "metadata": {
        "colab": {
          "base_uri": "https://localhost:8080/",
          "height": 1000
        },
        "id": "0NqUeOaPB-q5",
        "outputId": "aebf8b07-d580-4f46-c0ab-0178f54c97fa"
      },
      "outputs": [],
      "source": [
        "for images, masks in train_batches.take(2):\n",
        "  sample_image, sample_mask = images[0], masks[0]\n",
        "  display([sample_image, sample_mask])"
      ]
    },
    {
      "cell_type": "markdown",
      "metadata": {
        "id": "Ah3MXHieB-q5"
      },
      "source": [
        "# U-Net Model"
      ]
    },
    {
      "cell_type": "code",
      "execution_count": null,
      "metadata": {
        "id": "49DWzFC7B-q6"
      },
      "outputs": [],
      "source": [
        "def double_conv_block(x, n_filters):\n",
        "\n",
        "    # Conv2D then ReLU activation\n",
        "    x = keras.layers.Conv2D(n_filters, 3, padding = \"same\", activation = \"relu\", kernel_initializer = \"he_normal\")(x)\n",
        "    # Conv2D then ReLU activation\n",
        "    x = keras.layers.Conv2D(n_filters, 3, padding = \"same\", activation = \"relu\", kernel_initializer = \"he_normal\")(x)\n",
        "\n",
        "    return x\n",
        "\n",
        "def downsample_block(x, n_filters):\n",
        "    f = double_conv_block(x, n_filters)\n",
        "    p = keras.layers.MaxPool2D(2)(f)\n",
        "    p = keras.layers.Dropout(0.3)(p)\n",
        "\n",
        "    return f, p\n",
        "\n",
        "def upsample_block(x, conv_features, n_filters):\n",
        "    # upsample\n",
        "    x = keras.layers.Conv2DTranspose(n_filters, 3, 2, padding=\"same\")(x)\n",
        "    # concatenate\n",
        "    x = keras.layers.concatenate([x, conv_features])\n",
        "    # dropout\n",
        "    x = keras.layers.Dropout(0.3)(x)\n",
        "    # Conv2D twice with ReLU activation\n",
        "    x = double_conv_block(x, n_filters)\n",
        "\n",
        "    return x"
      ]
    },
    {
      "cell_type": "code",
      "execution_count": null,
      "metadata": {
        "id": "lfGwI9I1B-q6"
      },
      "outputs": [],
      "source": [
        "def build_unet_model():\n",
        "\n",
        "    # inputs\n",
        "    inputs = keras.layers.Input(shape=(128,128,1))\n",
        "\n",
        "    # encoder: contracting path - downsample\n",
        "    # 1 - downsample\n",
        "    f1, p1 = downsample_block(inputs, 64)\n",
        "    # 2 - downsample\n",
        "    f2, p2 = downsample_block(p1, 128)\n",
        "    # 3 - downsample\n",
        "    f3, p3 = downsample_block(p2, 256)\n",
        "    # 4 - downsample\n",
        "    f4, p4 = downsample_block(p3, 512)\n",
        "\n",
        "    # 5 - bottleneck\n",
        "    bottleneck = double_conv_block(p4, 1024)\n",
        "\n",
        "    # decoder: expanding path - upsample\n",
        "    # 6 - upsample\n",
        "    u6 = upsample_block(bottleneck, f4, 512)\n",
        "    # 7 - upsample\n",
        "    u7 = upsample_block(u6, f3, 256)\n",
        "    # 8 - upsample\n",
        "    u8 = upsample_block(u7, f2, 128)\n",
        "    # 9 - upsample\n",
        "    u9 = upsample_block(u8, f1, 64)\n",
        "\n",
        "    # last = tf.keras.layers.Conv2DTranspose(\n",
        "    #   filters=5, kernel_size=3, strides=2,\n",
        "    #   padding='same')  #64x64 -> 128x128\n",
        "    # outputs = last(u9)\n",
        "\n",
        "    # outputs\n",
        "    outputs = keras.layers.Conv2D(filters=5, kernel_size=1, padding=\"same\", activation = \"softmax\")(u9)\n",
        "\n",
        "    # unet model with Keras Functional API\n",
        "    unet_model = tf.keras.Model(inputs, outputs, name=\"U-Net\")\n",
        "\n",
        "    return unet_model"
      ]
    },
    {
      "cell_type": "code",
      "execution_count": null,
      "metadata": {
        "id": "haC3zAcGB-q7"
      },
      "outputs": [],
      "source": [
        "unet_model = build_unet_model()"
      ]
    },
    {
      "cell_type": "code",
      "execution_count": null,
      "metadata": {
        "colab": {
          "base_uri": "https://localhost:8080/"
        },
        "id": "cC1Nz4wZB-q7",
        "outputId": "da25155b-907c-4d42-a0c8-bac7a7f4e34a"
      },
      "outputs": [],
      "source": [
        "unet_model.summary()"
      ]
    },
    {
      "cell_type": "code",
      "execution_count": null,
      "metadata": {
        "id": "xN2qLcSuB-q7"
      },
      "outputs": [],
      "source": [
        "unet_model.compile(optimizer='adam',\n",
        "              loss=tf.keras.losses.SparseCategoricalCrossentropy(from_logits=False),\n",
        "              metrics=['accuracy'])"
      ]
    },
    {
      "cell_type": "code",
      "execution_count": null,
      "metadata": {
        "id": "nQnFqpiRB-q7"
      },
      "outputs": [],
      "source": [
        "def create_mask(pred_mask):\n",
        "    pred_mask = tf.math.argmax(pred_mask, axis=-1)\n",
        "    pred_mask = pred_mask[..., tf.newaxis]\n",
        "    return pred_mask[0]"
      ]
    },
    {
      "cell_type": "code",
      "execution_count": null,
      "metadata": {
        "id": "bOR957WsB-q7"
      },
      "outputs": [],
      "source": [
        "def show_predictions(dataset=None, num=1):\n",
        "    if dataset:\n",
        "        for image, mask in dataset.take(num):\n",
        "            pred_mask = unet_model.predict(image)\n",
        "            display([image[0], mask[0], create_mask(pred_mask)])\n",
        "    else:\n",
        "        display([sample_image, sample_mask,\n",
        "                create_mask(unet_model.predict(sample_image[tf.newaxis, ...]))])"
      ]
    },
    {
      "cell_type": "markdown",
      "metadata": {},
      "source": [
        "## Predictions (before training)"
      ]
    },
    {
      "cell_type": "code",
      "execution_count": null,
      "metadata": {
        "colab": {
          "base_uri": "https://localhost:8080/",
          "height": 396
        },
        "id": "5BuHjlg4B-q7",
        "outputId": "53c09cf9-e01f-4f6c-aa5a-b65abe01fb29"
      },
      "outputs": [],
      "source": [
        "show_predictions()"
      ]
    },
    {
      "cell_type": "code",
      "execution_count": null,
      "metadata": {
        "id": "OM9VrceNB-q7"
      },
      "outputs": [],
      "source": [
        "class DisplayCallback(tf.keras.callbacks.Callback):\n",
        "    def on_epoch_end(self, epoch, logs=None):\n",
        "        #clear_output(wait=True)\n",
        "        show_predictions()\n",
        "        print ('\\nSample Prediction after epoch {}\\n'.format(epoch+1))"
      ]
    },
    {
      "cell_type": "code",
      "execution_count": null,
      "metadata": {
        "id": "tyZiWbNMZjWZ"
      },
      "outputs": [],
      "source": [
        "def add_sample_weights(image, label):\n",
        "  # The weights for each class, with the constraint that:\n",
        "  #     sum(class_weights) == 1.0\n",
        "  class_weights = tf.constant([1.0, 10.0, 5.0, 6.0, 6.0])\n",
        "  class_weights = class_weights/tf.reduce_sum(class_weights)\n",
        "\n",
        "  # Create an image of `sample_weights` by using the label at each pixel as an\n",
        "  # index into the `class weights` .\n",
        "  sample_weights = tf.gather(class_weights, indices=tf.cast(label, tf.int32))\n",
        "\n",
        "  return image, label, sample_weights"
      ]
    },
    {
      "cell_type": "markdown",
      "metadata": {},
      "source": [
        "## Training"
      ]
    },
    {
      "cell_type": "code",
      "execution_count": null,
      "metadata": {
        "colab": {
          "base_uri": "https://localhost:8080/",
          "height": 1000
        },
        "id": "1vvft6sLB-q8",
        "outputId": "cd3c826f-8131-4d39-9b35-cb57de5e2bc4"
      },
      "outputs": [],
      "source": [
        "EPOCHS = 20\n",
        "VAL_SUBSPLITS = 5\n",
        "VALIDATION_STEPS = info.splits['validation'].num_examples//BATCH_SIZE//VAL_SUBSPLITS\n",
        "\n",
        "model_checkpoint = ModelCheckpoint('chaos19_unet.keras', monitor='loss', verbose=1, save_best_only = True)\n",
        "model_history = unet_model.fit(train_batches.map(add_sample_weights), epochs=EPOCHS,\n",
        "                          steps_per_epoch=STEPS_PER_EPOCH,\n",
        "                          validation_steps=VALIDATION_STEPS,\n",
        "                          validation_data=validation_batches,\n",
        "                          callbacks=[model_checkpoint, DisplayCallback()])"
      ]
    },
    {
      "cell_type": "markdown",
      "metadata": {},
      "source": [
        "# Training and validation loss"
      ]
    },
    {
      "cell_type": "code",
      "execution_count": null,
      "metadata": {
        "colab": {
          "base_uri": "https://localhost:8080/",
          "height": 472
        },
        "id": "HK8XY-bKB-q8",
        "outputId": "830a4bf8-cbe5-4612-c316-2c1c175e60ff"
      },
      "outputs": [],
      "source": [
        "loss = model_history.history['loss']\n",
        "val_loss = model_history.history['val_loss']\n",
        "\n",
        "plt.figure()\n",
        "plt.plot(model_history.epoch, loss, 'r', label='Training loss')\n",
        "plt.plot(model_history.epoch, val_loss, 'bo', label='Validation loss')\n",
        "plt.title('Training and Validation Loss')\n",
        "plt.xlabel('Epoch')\n",
        "plt.ylabel('Loss Value')\n",
        "plt.ylim([0, 1])\n",
        "plt.legend()\n",
        "plt.show()"
      ]
    },
    {
      "cell_type": "markdown",
      "metadata": {},
      "source": [
        "# Predictions"
      ]
    },
    {
      "cell_type": "code",
      "execution_count": null,
      "metadata": {
        "colab": {
          "base_uri": "https://localhost:8080/",
          "height": 1000
        },
        "id": "KTY0G3lUB-q8",
        "outputId": "03e8f867-ebc8-4dfa-ef31-da40473f856b"
      },
      "outputs": [],
      "source": [
        "model = build_unet_model()\n",
        "model.load_weights(\"chaos19_unet.keras\")\n",
        "show_predictions(test_batches, 20)\n",
        "\n",
        "# show_predictions(test_batches, 30)"
      ]
    }
  ],
  "metadata": {
    "accelerator": "GPU",
    "colab": {
      "gpuType": "T4",
      "provenance": [],
      "toc_visible": true
    },
    "kernelspec": {
      "display_name": "Python 3",
      "name": "python3"
    },
    "language_info": {
      "codemirror_mode": {
        "name": "ipython",
        "version": 3
      },
      "file_extension": ".py",
      "mimetype": "text/x-python",
      "name": "python",
      "nbconvert_exporter": "python",
      "pygments_lexer": "ipython3",
      "version": "3.10.0"
    }
  },
  "nbformat": 4,
  "nbformat_minor": 0
}
